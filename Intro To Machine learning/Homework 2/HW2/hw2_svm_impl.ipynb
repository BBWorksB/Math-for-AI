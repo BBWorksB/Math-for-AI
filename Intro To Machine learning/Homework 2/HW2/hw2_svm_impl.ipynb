{
  "cells": [
    {
      "cell_type": "markdown",
      "id": "35536ee2",
      "metadata": {},
      "source": [
        "#### 7. Implementing SVMs"
      ]
    },
    {
      "cell_type": "code",
      "execution_count": 18,
      "id": "f1612d37-752b-4c16-ac81-e0414b9da4df",
      "metadata": {
        "id": "f1612d37-752b-4c16-ac81-e0414b9da4df"
      },
      "outputs": [],
      "source": [
        "# !pip install ucimlrepo"
      ]
    },
    {
      "cell_type": "code",
      "execution_count": 2,
      "id": "e7917f76-cc3d-452c-a491-adb508837250",
      "metadata": {
        "id": "e7917f76-cc3d-452c-a491-adb508837250"
      },
      "outputs": [],
      "source": [
        "from ucimlrepo import fetch_ucirepo\n",
        "import pandas as pd\n",
        "import numpy as np\n",
        "import cvxpy as cp\n",
        "from matplotlib import pyplot as plt"
      ]
    },
    {
      "cell_type": "code",
      "execution_count": 3,
      "id": "4f0246b0-c964-4538-9890-73f8b580b0b4",
      "metadata": {
        "id": "4f0246b0-c964-4538-9890-73f8b580b0b4",
        "tags": []
      },
      "outputs": [
        {
          "name": "stdout",
          "output_type": "stream",
          "text": [
            "Number of samples in all full dataset is: 303.\n",
            "Number of rows with missing values in features: 4\n",
            "Shapes: X_train: (216, 22), y_train: (216,), X_test: (83, 22), y_test: (83,)\n"
          ]
        }
      ],
      "source": [
        "# !! DO NOT MODIFY THIS CELL !!\n",
        "\n",
        "# Download and preprocess the dataset.\n",
        "# fetch dataset\n",
        "heart_disease = fetch_ucirepo(id=45)\n",
        "X = heart_disease.data.features\n",
        "# Convert categorical features into one-hot encode\n",
        "categorical_features = ['cp','thal','slope','restecg']\n",
        "X = pd.get_dummies(X, columns=categorical_features)\n",
        "\n",
        "y = heart_disease.data.targets\n",
        "print(f\"Number of samples in all full dataset is: {len(X)}.\")\n",
        "\n",
        "# Check if our train set has missing value\n",
        "na_in_features = X.isna().any(axis=1).sum()\n",
        "na_in_trainY = y.isna().sum()\n",
        "print(f\"Number of rows with missing values in features: {na_in_features}\")\n",
        "\n",
        "# Drop the rows with missing values.\n",
        "indices_with_nan = X.index[X.isna().any(axis=1)]\n",
        "X = X.drop(indices_with_nan)\n",
        "y = y.drop(indices_with_nan)\n",
        "\n",
        "# Divide train/test\n",
        "np.random.seed(6464)\n",
        "msk = np.random.rand(len(X)) < 0.75\n",
        "X_train = X[msk]\n",
        "X_test = X[~msk]\n",
        "y_train = y[msk]\n",
        "y_test = y[~msk]\n",
        "\n",
        "# Convert problem to binary problem\n",
        "X_train = np.array(X_train,dtype='float')\n",
        "X_test = np.array(X_test,dtype='float')\n",
        "y_train = np.array([-1 if i==0 else 1 for i in y_train.values],dtype='float')\n",
        "y_test = np.array([-1 if i==0 else 1 for i in y_test.values],dtype='float')\n",
        "\n",
        "print(f\"Shapes: X_train: {X_train.shape}, y_train: {y_train.shape}, X_test: {X_test.shape}, y_test: {y_test.shape}\")"
      ]
    },
    {
      "cell_type": "code",
      "execution_count": 4,
      "id": "475547d9-ed9f-4407-8655-47f65b82d3f1",
      "metadata": {
        "id": "475547d9-ed9f-4407-8655-47f65b82d3f1"
      },
      "outputs": [],
      "source": [
        "# Normalize X_train and X_test using the statistics of X_train.\n",
        "# 1. Compute the mean and standard deviation for each feature in X_train\n",
        "# 2. Subtract the mean from each feature and divide by the standard deviation\n",
        "#    for both X_train and X_test.\n",
        "mean_X_train = np.mean(X_train,axis=0)\n",
        "std_X_train = np.std(X_train,axis=0)\n",
        "\n",
        "X_train_normalized = (X_train - mean_X_train)/std_X_train\n",
        "X_test_normalized = (X_test - mean_X_train)/std_X_train"
      ]
    },
    {
      "cell_type": "markdown",
      "id": "af26c4cf",
      "metadata": {},
      "source": [
        "#### Why use train mean and std  \n",
        "- **Prevent Data Leakage:** Using test data for normalization would leak information, leading to overly optimistic results.  \n",
        "- **Real-World Consistency:** In deployment, only training data statistics are available, so the model must generalize based on them.  \n",
        "- **Fair Evaluation:** Ensures test data follows the same distribution as training data for an unbiased assessment.  \n"
      ]
    },
    {
      "cell_type": "code",
      "execution_count": 5,
      "id": "45356d23-c7c0-4708-9460-d1de5ec7dff8",
      "metadata": {
        "id": "45356d23-c7c0-4708-9460-d1de5ec7dff8"
      },
      "outputs": [
        {
          "name": "stdout",
          "output_type": "stream",
          "text": [
            "X_train First Feature\n",
            "----------------------------\n",
            "Mean: 54.99\n",
            "Standard deviation: 9.08 \n",
            "\n",
            "X_train Last Feature\n",
            "----------------------------\n",
            "Mean: 0.50\n",
            "Standard deviation: 0.50\n"
          ]
        }
      ],
      "source": [
        "# Print the mean and standard deviation of the first and last feature.\n",
        "print(\"X_train First Feature\")\n",
        "print(\"----------------------------\")\n",
        "print(f\"Mean: {mean_X_train[0]:.2f}\")\n",
        "print(f\"Standard deviation: {std_X_train[0]:.2f} \\n\")\n",
        "\n",
        "\n",
        "print(\"X_train Last Feature\")\n",
        "print(\"----------------------------\")\n",
        "print(f\"Mean: {mean_X_train[-1]:.2f}\")\n",
        "print(f\"Standard deviation: {std_X_train[-1]:.2f}\")"
      ]
    },
    {
      "cell_type": "code",
      "execution_count": 6,
      "id": "091df435-4481-48b0-a8b1-36af6fb2bd86",
      "metadata": {
        "id": "091df435-4481-48b0-a8b1-36af6fb2bd86"
      },
      "outputs": [],
      "source": [
        "# Train SVM\n",
        "\n",
        "# Complete the `trainSVM` function to find the optimal w and b that minimize\n",
        "# the primal SVM objective given in the write-up.\n",
        "# The function takes three inputs:\n",
        "# - trainX: the normalized train features with shape (#train_samples, #features)\n",
        "# - trainY: train labels with shape (#train_samples,)\n",
        "# - C: C parameter of the minimization problem\n",
        "# The function should return a three-tuple with:\n",
        "# - w: the weight vector with shape (#features,)\n",
        "# - b: the bias. A scalar with shape (1,)\n",
        "# - xi: the slack variables with shape (#train_samples,)\n",
        "\n",
        "# You can use cvxpy that we imported as cp\n",
        "# You may find cp.Variable, cp.Minimize, cp.Problem useful\n",
        "# For the problem solver, prefer the default, cp.CLARABEL\n",
        "\n",
        "def trainSVM(X_train_normalized, y_train, C):\n",
        "    n_features = X_train_normalized.shape[1]\n",
        "\n",
        "    # Define variables\n",
        "    w = cp.Variable(n_features)\n",
        "    b = cp.Variable()\n",
        "    xi = cp.Variable(X_train_normalized.shape[0])\n",
        "\n",
        "    constraints = [\n",
        "    # SVM constraint\n",
        "    cp.multiply(y_train, (X_train_normalized @ w + b)) >= 1 - xi,  \n",
        "    # Slack variables must be non-negative \n",
        "    xi >= 0  \n",
        "    ]\n",
        "\n",
        "    # Objective function\n",
        "    objective = cp.Minimize(0.5 * cp.norm(w, 2)**2 + C * cp.sum(xi))\n",
        "\n",
        "    # Solve the problem\n",
        "    problem = cp.Problem(objective, constraints)\n",
        "    problem.solve()\n",
        "\n",
        "    return w.value, b.value, xi.value"
      ]
    },
    {
      "cell_type": "code",
      "execution_count": 7,
      "id": "b7a59a02-10de-4e86-85d5-02b6ee833d40",
      "metadata": {
        "id": "b7a59a02-10de-4e86-85d5-02b6ee833d40"
      },
      "outputs": [
        {
          "name": "stdout",
          "output_type": "stream",
          "text": [
            "First 3 weights:\n",
            "[-0.01280084  0.51706872  0.27813637]\n",
            "Bias: 0.0811\n",
            "First 3 slack variables:\n",
            "[-1.70119328e-10 -1.64395885e-10 -1.69587409e-10]\n"
          ]
        }
      ],
      "source": [
        "# Solve SVM with C = 1 and print the first three weights, b and the first\n",
        "# three slack variables as instructed in the write-up\n",
        "w_C1, b_C1, xi_C1 = trainSVM(X_train_normalized, y_train, C=1)\n",
        "\n",
        "print(f\"First 3 weights:\\n{w_C1[:3]}\")\n",
        "print(f\"Bias: {b_C1:.4f}\")\n",
        "print(f\"First 3 slack variables:\\n{xi_C1[:3]}\")"
      ]
    },
    {
      "cell_type": "code",
      "execution_count": 8,
      "id": "1da17d11-f98f-49c5-a5c6-0f96c7d09136",
      "metadata": {
        "id": "1da17d11-f98f-49c5-a5c6-0f96c7d09136"
      },
      "outputs": [
        {
          "name": "stdout",
          "output_type": "stream",
          "text": [
            "First 3 weights:\n",
            "[ 3.09523259e-06 -8.18802636e-06 -9.46615246e-06]\n",
            "Bias:-10.4476\n",
            "First 3 slack variables:\n",
            "[429.58840105 434.02071004 414.34670026]\n"
          ]
        }
      ],
      "source": [
        "# Solve SVM with C = 0 and print the first three weights, b and the first\n",
        "# three slack variables as instructed in the write-up\n",
        "w_C0, b_C0, xi_C0 = trainSVM(X_train_normalized, y_train, C=0)\n",
        "\n",
        "print(f\"First 3 weights:\\n{w_C0[:3]}\")\n",
        "print(f\"Bias:{b_C0:.4f}\")\n",
        "print(f\"First 3 slack variables:\\n{xi_C0[:3]}\")"
      ]
    },
    {
      "cell_type": "markdown",
      "id": "aac843f9",
      "metadata": {},
      "source": [
        "#### Explanation of the different C outputs\n",
        "This difference arises because **C controls the trade-off between maximizing the margin and minimizing classification errors**. With **C = 0**, the optimization focuses only on maximizing the margin without penalizing misclassified points, allowing larger slack variables (ξ). However, when **C > 0**, the term \\( C \\sum \\xi_i \\) is introduced in the objective function, enforcing a stricter penalty for misclassification, thus reducing slack values.\n",
        "\n",
        "This explains why we introduce the **\\( C \\sum \\xi_i \\)** term in Soft-SVM—it ensures that we balance margin maximization with classification accuracy. Without it, the model would ignore classification errors entirely.\n"
      ]
    },
    {
      "cell_type": "code",
      "execution_count": 9,
      "id": "b9dee83c-8926-4feb-808d-41f26e6451fd",
      "metadata": {
        "id": "b9dee83c-8926-4feb-808d-41f26e6451fd"
      },
      "outputs": [],
      "source": [
        "# Eval SVM\n",
        "\n",
        "# Write a function to evaluate the SVM model given its `w` and `b` parameters\n",
        "# on evaluation data `X_eval` and true labels `y_eval`.\n",
        "#  1. Estimate the labels of `X_eval`.\n",
        "#  2. Return the ratio of accurately estimated labels by comparing with `y_eval`.\n",
        "def evalSVM(X_eval, y_eval, w, b):  \n",
        "    y_pred = np.sign(np.dot(X_eval, w) + b)  \n",
        "    accuracy = np.mean(y_pred == y_eval)  \n",
        "    return accuracy "
      ]
    },
    {
      "cell_type": "code",
      "execution_count": 14,
      "id": "1310224c",
      "metadata": {},
      "outputs": [],
      "source": [
        "train_accuracies = []\n",
        "test_accuracies = []\n",
        "C_values = []\n",
        "\n",
        "# Given C values based on homework specifications\n",
        "a_values = [1, 3, 6]  \n",
        "q_values = [-4, -3, -2, -1, 0, 1]  \n",
        "C_possibilities = [a * (10 ** q) for a in a_values for q in q_values]  \n",
        "\n",
        "for C in C_possibilities:  \n",
        "    w, b, _ = trainSVM(X_train_normalized, y_train, C)  \n",
        "    train_accuracy = evalSVM(X_train_normalized, y_train, w, b)  \n",
        "    test_accuracy = evalSVM(X_test_normalized, y_test, w, b)  \n",
        "    \n",
        "    C_values.append(C)  \n",
        "    train_accuracies.append(train_accuracy)  \n",
        "    test_accuracies.append(test_accuracy)  \n",
        "\n",
        "# Sort lists based on C_values while keeping corresponding values aligned\n",
        "sorted_data = sorted(zip(C_values, train_accuracies, test_accuracies), key=lambda x: x[0])\n",
        "C_values, train_accuracies, test_accuracies = zip(*sorted_data)\n",
        "\n",
        "# Convert tuples back to lists\n",
        "C_values = list(C_values)\n",
        "train_accuracies = list(train_accuracies)\n",
        "test_accuracies = list(test_accuracies)\n"
      ]
    },
    {
      "cell_type": "code",
      "execution_count": 15,
      "id": "d4be2eda-5961-42d4-a999-c444110b3e19",
      "metadata": {
        "id": "d4be2eda-5961-42d4-a999-c444110b3e19"
      },
      "outputs": [
        {
          "data": {
            "image/png": "[encoded data removed]",
            "text/plain": [
              "<Figure size 1200x600 with 2 Axes>"
            ]
          },
          "metadata": {},
          "output_type": "display_data"
        }
      ],
      "source": [
        "# Plotting and reporting the desired values\n",
        "plt.figure(figsize=(12,6))  \n",
        "plt.subplot(1, 2, 1)  \n",
        "plt.plot(C_values, train_accuracies)  \n",
        "plt.xscale('log')  \n",
        "plt.title('Training Accuracy vs C')  \n",
        "plt.xlabel('C')  \n",
        "plt.ylabel('Accuracy')  \n",
        "\n",
        "plt.subplot(1, 2, 2)  \n",
        "plt.plot(C_values, test_accuracies)  \n",
        "plt.xscale('log')  \n",
        "plt.title('Test Accuracy vs C')  \n",
        "plt.xlabel('C')  \n",
        "plt.ylabel('Accuracy')  \n",
        "\n",
        "plt.tight_layout()  \n",
        "plt.show()  "
      ]
    },
    {
      "cell_type": "code",
      "execution_count": 16,
      "id": "e2c39a90",
      "metadata": {},
      "outputs": [
        {
          "name": "stdout",
          "output_type": "stream",
          "text": [
            "Best Training C: 10\n",
            "Accuracy: 0.89\n"
          ]
        }
      ],
      "source": [
        "# Desired values\n",
        "best_train_C = C_values[np.argmax(train_accuracies)]  \n",
        "best_train_accuracy = max(train_accuracies) \n",
        "\n",
        "print(f\"Best Training C: {best_train_C}\\nAccuracy: {best_train_accuracy:.2f}\") "
      ]
    },
    {
      "cell_type": "code",
      "execution_count": 17,
      "id": "49e90a2b",
      "metadata": {},
      "outputs": [
        {
          "name": "stdout",
          "output_type": "stream",
          "text": [
            "Best Test C: 0.003\n",
            "Accuracy: 0.86\n"
          ]
        }
      ],
      "source": [
        "best_test_C = C_values[np.argmax(test_accuracies)]  \n",
        "best_test_accuracy = max(test_accuracies)  \n",
        "\n",
        " \n",
        "print(f\"Best Test C: {best_test_C}\\nAccuracy: {best_test_accuracy:.2f}\") "
      ]
    },
    {
      "cell_type": "code",
      "execution_count": null,
      "id": "262c925c",
      "metadata": {},
      "outputs": [],
      "source": []
    }
  ],
  "metadata": {
    "colab": {
      "provenance": []
    },
    "kernelspec": {
      "display_name": "cmu-env",
      "language": "python",
      "name": "python3"
    },
    "language_info": {
      "codemirror_mode": {
        "name": "ipython",
        "version": 3
      },
      "file_extension": ".py",
      "mimetype": "text/x-python",
      "name": "python",
      "nbconvert_exporter": "python",
      "pygments_lexer": "ipython3",
      "version": "3.12.7"
    }
  },
  "nbformat": 4,
  "nbformat_minor": 5
}
